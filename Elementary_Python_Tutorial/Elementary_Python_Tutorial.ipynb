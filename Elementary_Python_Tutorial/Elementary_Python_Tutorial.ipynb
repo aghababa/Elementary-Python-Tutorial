{
  "nbformat": 4,
  "nbformat_minor": 0,
  "metadata": {
    "kernelspec": {
      "display_name": "Python 3",
      "language": "python",
      "name": "python3"
    },
    "language_info": {
      "codemirror_mode": {
        "name": "ipython",
        "version": 3
      },
      "file_extension": ".py",
      "mimetype": "text/x-python",
      "name": "python",
      "nbconvert_exporter": "python",
      "pygments_lexer": "ipython3",
      "version": "3.7.4"
    },
    "colab": {
      "name": "Elementary_Python_Tutorial.ipynb",
      "provenance": [],
      "collapsed_sections": []
    }
  },
  "cells": [
    {
      "cell_type": "markdown",
      "metadata": {
        "id": "P5kN-QxDj9SI"
      },
      "source": [
        "# Elementary Python Colab Tutorial:\n",
        "\n",
        "## Link to datasets and a copy of this colab file in my github repository: \n",
        "https://github.com/aghababa/Elementary-Python-Tutorial\n",
        "\n",
        "One way to work with this Colab file is to clone the folder there and copy/paste its files into your google drive. "
      ]
    },
    {
      "cell_type": "code",
      "metadata": {
        "scrolled": true,
        "id": "b5BXAvdNQw5t"
      },
      "source": [
        "import numpy as np \n",
        "from scipy import linalg as LA\n",
        "import pandas as pd\n",
        "import random \n",
        "import matplotlib as mpl\n",
        "import matplotlib.pyplot as plt "
      ],
      "execution_count": 1,
      "outputs": []
    },
    {
      "cell_type": "markdown",
      "metadata": {
        "id": "I--6GGVERJbB"
      },
      "source": [
        "# Importing files from google drive\n",
        "\n",
        "---"
      ]
    },
    {
      "cell_type": "markdown",
      "metadata": {
        "id": "NKaNexZ9RPXt"
      },
      "source": [
        "# Mounting Google Drive\n",
        "### We can access files in our google drive using mounting Google Drive, i.e., setting up the google drive account as a virtual drive. Thus we can access the resources of the drive like a local drive in our computer.\n",
        "\n",
        "### To connect Google Drive with Colab, we can execute the following two lines of code in Colab:"
      ]
    },
    {
      "cell_type": "code",
      "metadata": {
        "id": "21g9nlO8Q_T2",
        "outputId": "e5ad32f5-314c-4024-ce4e-61487a13d5d8",
        "colab": {
          "base_uri": "https://localhost:8080/"
        }
      },
      "source": [
        "from google.colab import drive\n",
        "drive.mount(\"/content/gdrive\")"
      ],
      "execution_count": null,
      "outputs": [
        {
          "output_type": "stream",
          "text": [
            "Mounted at /content/gdrive\n"
          ],
          "name": "stdout"
        }
      ]
    },
    {
      "cell_type": "markdown",
      "metadata": {
        "id": "VUN1XP2XcwhV"
      },
      "source": [
        "# The dataset we are going to use is a simple regression task data from kaggle which can be downloaded from this link: \n",
        "https://www.kaggle.com/luddarell/101-simple-linear-regressioncsv\n",
        "\n",
        "---"
      ]
    },
    {
      "cell_type": "markdown",
      "metadata": {
        "id": "7OXQrj7ZoRMH"
      },
      "source": [
        "# Importing data from your google drive, assuming data is copied/pasted there\n",
        "\n",
        "## (I have pastaed Data.csv and Data1.csv files both in my google drive and in a folder named Python Tutorial in my google drive)"
      ]
    },
    {
      "cell_type": "markdown",
      "metadata": {
        "id": "K37uxZ3fIQRk"
      },
      "source": [
        "## Visualizing data in the form of dataframe (need \"import pandas as pd\")\n",
        "\n",
        "#### The dataset is from kaggle: https://www.kaggle.com/mayanksrivastava/predict-housing-prices-simple-linear-regression\n",
        "\n",
        "However we will not use this data. We just use it for introducing pandas dataframe which is great for visualization. And I'm using only 100 rows and some columns. "
      ]
    },
    {
      "cell_type": "code",
      "metadata": {
        "id": "kyPueVG5RBDq"
      },
      "source": [
        "# if data is copied in google drive\n",
        "pd.read_csv('/content/gdrive/My Drive/Data1.csv')#[:5]"
      ],
      "execution_count": null,
      "outputs": []
    },
    {
      "cell_type": "code",
      "metadata": {
        "id": "yMUgCKqblMHU"
      },
      "source": [
        "#if data is in a folder in your goole drive, use the following\n",
        "pd.read_csv('/content/gdrive/My Drive/Python Tutorial/Data.csv') "
      ],
      "execution_count": null,
      "outputs": []
    },
    {
      "cell_type": "markdown",
      "metadata": {
        "id": "bsX8KWNFRjxj"
      },
      "source": [
        "# Importing data from your computer\n",
        "#### To import data execute the following two lines of code in Colab and then choose your data by browsing \"Choose Files\" botton. "
      ]
    },
    {
      "cell_type": "code",
      "metadata": {
        "id": "5TYsMvR3Q-sM"
      },
      "source": [
        "from google.colab import files\n",
        "uploaded = files.upload()"
      ],
      "execution_count": null,
      "outputs": []
    },
    {
      "cell_type": "code",
      "metadata": {
        "id": "W2MQGIFHRsyg"
      },
      "source": [
        "pd.read_csv(\"Data1.csv\")[:5]"
      ],
      "execution_count": null,
      "outputs": []
    },
    {
      "cell_type": "markdown",
      "metadata": {
        "id": "VE9yTVORR0lU"
      },
      "source": [
        "#Downloading Data from Colab into a Local Drive in Your Computer"
      ]
    },
    {
      "cell_type": "markdown",
      "metadata": {
        "id": "I8MvFCRRR5V_"
      },
      "source": [
        "We can download data into local directories by executing the following two lines of codes. Here we assume that the dataset is in CSV format."
      ]
    },
    {
      "cell_type": "code",
      "metadata": {
        "id": "xwEDq9K-RtEh",
        "outputId": "67db24fd-b895-47a4-bd2e-eb62543e0133",
        "colab": {
          "base_uri": "https://localhost:8080/",
          "height": 17
        }
      },
      "source": [
        "from google.colab import files\n",
        "\n",
        "#if data is on the google drive\n",
        "files.download('/content/gdrive/My Drive/Data.csv') "
      ],
      "execution_count": null,
      "outputs": [
        {
          "output_type": "display_data",
          "data": {
            "application/javascript": [
              "\n",
              "    async function download(id, filename, size) {\n",
              "      if (!google.colab.kernel.accessAllowed) {\n",
              "        return;\n",
              "      }\n",
              "      const div = document.createElement('div');\n",
              "      const label = document.createElement('label');\n",
              "      label.textContent = `Downloading \"${filename}\": `;\n",
              "      div.appendChild(label);\n",
              "      const progress = document.createElement('progress');\n",
              "      progress.max = size;\n",
              "      div.appendChild(progress);\n",
              "      document.body.appendChild(div);\n",
              "\n",
              "      const buffers = [];\n",
              "      let downloaded = 0;\n",
              "\n",
              "      const channel = await google.colab.kernel.comms.open(id);\n",
              "      // Send a message to notify the kernel that we're ready.\n",
              "      channel.send({})\n",
              "\n",
              "      for await (const message of channel.messages) {\n",
              "        // Send a message to notify the kernel that we're ready.\n",
              "        channel.send({})\n",
              "        if (message.buffers) {\n",
              "          for (const buffer of message.buffers) {\n",
              "            buffers.push(buffer);\n",
              "            downloaded += buffer.byteLength;\n",
              "            progress.value = downloaded;\n",
              "          }\n",
              "        }\n",
              "      }\n",
              "      const blob = new Blob(buffers, {type: 'application/binary'});\n",
              "      const a = document.createElement('a');\n",
              "      a.href = window.URL.createObjectURL(blob);\n",
              "      a.download = filename;\n",
              "      div.appendChild(a);\n",
              "      a.click();\n",
              "      div.remove();\n",
              "    }\n",
              "  "
            ],
            "text/plain": [
              "<IPython.core.display.Javascript object>"
            ]
          },
          "metadata": {
            "tags": []
          }
        },
        {
          "output_type": "display_data",
          "data": {
            "application/javascript": [
              "download(\"download_7a148e5a-3933-4d7c-ac41-ccdba63a365c\", \"Data.csv\", 922)"
            ],
            "text/plain": [
              "<IPython.core.display.Javascript object>"
            ]
          },
          "metadata": {
            "tags": []
          }
        }
      ]
    },
    {
      "cell_type": "code",
      "metadata": {
        "id": "tmJ0CwU-ltx0",
        "outputId": "0ad29850-07e3-42ed-ac6c-33a82d67e753",
        "colab": {
          "base_uri": "https://localhost:8080/",
          "height": 17
        }
      },
      "source": [
        "#if data is in a folder in google drive, use the following\n",
        "files.download('/content/gdrive/My Drive/Python Tutorial/Data1.csv')"
      ],
      "execution_count": null,
      "outputs": [
        {
          "output_type": "display_data",
          "data": {
            "application/javascript": [
              "\n",
              "    async function download(id, filename, size) {\n",
              "      if (!google.colab.kernel.accessAllowed) {\n",
              "        return;\n",
              "      }\n",
              "      const div = document.createElement('div');\n",
              "      const label = document.createElement('label');\n",
              "      label.textContent = `Downloading \"${filename}\": `;\n",
              "      div.appendChild(label);\n",
              "      const progress = document.createElement('progress');\n",
              "      progress.max = size;\n",
              "      div.appendChild(progress);\n",
              "      document.body.appendChild(div);\n",
              "\n",
              "      const buffers = [];\n",
              "      let downloaded = 0;\n",
              "\n",
              "      const channel = await google.colab.kernel.comms.open(id);\n",
              "      // Send a message to notify the kernel that we're ready.\n",
              "      channel.send({})\n",
              "\n",
              "      for await (const message of channel.messages) {\n",
              "        // Send a message to notify the kernel that we're ready.\n",
              "        channel.send({})\n",
              "        if (message.buffers) {\n",
              "          for (const buffer of message.buffers) {\n",
              "            buffers.push(buffer);\n",
              "            downloaded += buffer.byteLength;\n",
              "            progress.value = downloaded;\n",
              "          }\n",
              "        }\n",
              "      }\n",
              "      const blob = new Blob(buffers, {type: 'application/binary'});\n",
              "      const a = document.createElement('a');\n",
              "      a.href = window.URL.createObjectURL(blob);\n",
              "      a.download = filename;\n",
              "      div.appendChild(a);\n",
              "      a.click();\n",
              "      div.remove();\n",
              "    }\n",
              "  "
            ],
            "text/plain": [
              "<IPython.core.display.Javascript object>"
            ]
          },
          "metadata": {
            "tags": []
          }
        },
        {
          "output_type": "display_data",
          "data": {
            "application/javascript": [
              "download(\"download_ad8691bf-558a-431e-86d4-7d05a8c2cd97\", \"Data1.csv\", 8019)"
            ],
            "text/plain": [
              "<IPython.core.display.Javascript object>"
            ]
          },
          "metadata": {
            "tags": []
          }
        }
      ]
    },
    {
      "cell_type": "markdown",
      "metadata": {
        "id": "tsGwDC6pSRVp"
      },
      "source": [
        "# $\\bf Regression$\n",
        "\n",
        "### We are going to do a simple regression task in order to be familier with some basic operations and fuctions needed in this course.\n",
        "\n",
        "#### The first function we need is reading a file like a csv file. \n",
        "\n",
        "\n",
        "\n"
      ]
    },
    {
      "cell_type": "code",
      "metadata": {
        "id": "XeYoNRxTQw8m"
      },
      "source": [
        "def read_file(file_name):\n",
        "  data = []\n",
        "  with open(file_name, \"r\") as f:\n",
        "    for line in f:\n",
        "      item = line.strip().split(\",\")\n",
        "      data.append(np.array(item))\n",
        "  return data"
      ],
      "execution_count": null,
      "outputs": []
    },
    {
      "cell_type": "markdown",
      "metadata": {
        "id": "KTiLGeEtHvz3"
      },
      "source": [
        "## Reading x and y values"
      ]
    },
    {
      "cell_type": "code",
      "metadata": {
        "id": "EXWqdqkLHSw_"
      },
      "source": [
        "data = read_file('/content/gdrive/My Drive/Data.csv')[1:]"
      ],
      "execution_count": null,
      "outputs": []
    },
    {
      "cell_type": "code",
      "metadata": {
        "id": "9U5Wq4mEcnLT",
        "outputId": "8d955e29-570f-449a-c9e3-9d4297914d08",
        "colab": {
          "base_uri": "https://localhost:8080/"
        }
      },
      "source": [
        "len(data)"
      ],
      "execution_count": null,
      "outputs": [
        {
          "output_type": "execute_result",
          "data": {
            "text/plain": [
              "84"
            ]
          },
          "metadata": {
            "tags": []
          },
          "execution_count": 11
        }
      ]
    },
    {
      "cell_type": "code",
      "metadata": {
        "id": "d5OzPDGSXWX_"
      },
      "source": [
        "random.shuffle(data)\n",
        "data = np.array(data)"
      ],
      "execution_count": null,
      "outputs": []
    },
    {
      "cell_type": "code",
      "metadata": {
        "id": "rbHMyZPnTLe1"
      },
      "source": [
        "data"
      ],
      "execution_count": null,
      "outputs": []
    },
    {
      "cell_type": "code",
      "metadata": {
        "id": "HikfJwhMbvBx"
      },
      "source": [
        "x_values = data[:,0]\n",
        "y_values = data[:,1]"
      ],
      "execution_count": null,
      "outputs": []
    },
    {
      "cell_type": "code",
      "metadata": {
        "id": "FdzVLUhaHZBn"
      },
      "source": [
        "x = np.zeros(len(x_values))\n",
        "for i in range(len(x_values)):\n",
        "  x[i] = float(x_values[i])"
      ],
      "execution_count": null,
      "outputs": []
    },
    {
      "cell_type": "code",
      "metadata": {
        "id": "ec72kFz_WlhL"
      },
      "source": [
        "x"
      ],
      "execution_count": null,
      "outputs": []
    },
    {
      "cell_type": "code",
      "metadata": {
        "id": "eW0CsoVHdJ__"
      },
      "source": [
        "y = np.zeros(len(y_values))\n",
        "for i in range(len(y_values)):\n",
        "  y[i] = float(y_values[i])"
      ],
      "execution_count": null,
      "outputs": []
    },
    {
      "cell_type": "code",
      "metadata": {
        "id": "_WeaqR-CdOlN"
      },
      "source": [
        "y"
      ],
      "execution_count": null,
      "outputs": []
    },
    {
      "cell_type": "markdown",
      "metadata": {
        "id": "e6L5wEu-HVBp"
      },
      "source": [
        "## Train/Test split of data (75/25%)"
      ]
    },
    {
      "cell_type": "code",
      "metadata": {
        "id": "yuinLcZIWwFr"
      },
      "source": [
        "data_train = x[:63]\n",
        "data_test = x[63:]\n",
        "\n",
        "y_train = y[:63]\n",
        "y_test = y[63:]"
      ],
      "execution_count": null,
      "outputs": []
    },
    {
      "cell_type": "markdown",
      "metadata": {
        "id": "QZ9jvVIHG4Xj"
      },
      "source": [
        "## Linear Regression\n",
        "### Obtaining model parameters, i.e., $a$ and $b$ for the linear model $\\ell(x) = a x + b$:\n",
        "\n",
        "\n",
        "\n",
        "*   $x_{ave} = \\overline{x} = \\frac{1}{n} \\sum_{i=1}^n x_i$, $\\quad y_{ave} = \\overline{y} = \\frac{1}{n} \\sum_{i=1}^n y_i$\n",
        "*   $\\overline{X} = (x_1-\\overline{x}, \\ldots, x_n-\\overline{x})$, $\\quad \\overline{Y} = (x_1-\\overline{y}, \\ldots, x_n-\\overline{y})$\n",
        "\n",
        "*   $a = \\langle \\overline{X}, \\overline{Y}\\rangle/\\|\\overline{X}\\|^2$, $\\quad b = \\overline{y} - a \\cdot \\overline{x}$."
      ]
    },
    {
      "cell_type": "code",
      "metadata": {
        "id": "v_9fDJfNwdg1"
      },
      "source": [
        "n = len(data_train)\n",
        "\n",
        "x_ave = sum(data_train)/n\n",
        "y_ave = sum(y_train)/n\n",
        "\n",
        "X_bar = data_train - x_ave\n",
        "Y_bar = y_train - y_ave"
      ],
      "execution_count": null,
      "outputs": []
    },
    {
      "cell_type": "code",
      "metadata": {
        "id": "Dhut4_y1xDN4"
      },
      "source": [
        "a = np.dot(X_bar, Y_bar)/LA.norm(X_bar)**2\n",
        "b = y_ave - a * x_ave"
      ],
      "execution_count": null,
      "outputs": []
    },
    {
      "cell_type": "code",
      "metadata": {
        "id": "PVZ9HJ3gLfco"
      },
      "source": [
        "a,b"
      ],
      "execution_count": null,
      "outputs": []
    },
    {
      "cell_type": "markdown",
      "metadata": {
        "id": "SD1dZk_zGvIo"
      },
      "source": [
        "## Calculating the residuals $r_i = y_i - \\hat{y}_i$, where $\\hat{y} = \\ell(x_i) = ax_i+b$"
      ]
    },
    {
      "cell_type": "code",
      "metadata": {
        "id": "I6fulFaUshf7"
      },
      "source": [
        "y_hat = np.zeros(21)\n",
        "\n",
        "for i in range(21):\n",
        "  y_hat[i] = a * data_test[i] + b"
      ],
      "execution_count": null,
      "outputs": []
    },
    {
      "cell_type": "code",
      "metadata": {
        "id": "blR9Nd2_Ws8X"
      },
      "source": [
        "y_hat = a * data_test + b"
      ],
      "execution_count": null,
      "outputs": []
    },
    {
      "cell_type": "code",
      "metadata": {
        "id": "AsMwhFuWs3ao"
      },
      "source": [
        "r = y_test - y_hat #or y_hat - y_test"
      ],
      "execution_count": null,
      "outputs": []
    },
    {
      "cell_type": "code",
      "metadata": {
        "id": "LeeOc5qAt07y"
      },
      "source": [
        "r"
      ],
      "execution_count": null,
      "outputs": []
    },
    {
      "cell_type": "markdown",
      "metadata": {
        "id": "sUSxv8FkgIlm"
      },
      "source": [
        "# Plotting data and the Model"
      ]
    },
    {
      "cell_type": "code",
      "metadata": {
        "id": "HKzVcVFDIBE-"
      },
      "source": [
        "plt.scatter(data_train, y_train);\n",
        "plt.scatter(data_test, y_test, color = 'red');\n",
        "plt.show()"
      ],
      "execution_count": null,
      "outputs": []
    },
    {
      "cell_type": "markdown",
      "metadata": {
        "id": "tDoAXtBFXa5f"
      },
      "source": [
        "$\\ell(x) = ax + b$"
      ]
    },
    {
      "cell_type": "code",
      "metadata": {
        "id": "ZwyJPck5JLg7"
      },
      "source": [
        "def lin_reg(x):\n",
        "  return a * x + b"
      ],
      "execution_count": null,
      "outputs": []
    },
    {
      "cell_type": "code",
      "metadata": {
        "id": "KhjywbJ1I2EE"
      },
      "source": [
        "plt.scatter(data_train, y_train);\n",
        "plt.scatter(data_test, y_test, color = 'red');\n",
        "\n",
        "xlist = np.linspace(1600, 2100, 200)\n",
        "plt.plot(xlist, lin_reg(xlist), 'g', linewidth=2)\n",
        "\n",
        "plt.show()"
      ],
      "execution_count": null,
      "outputs": []
    },
    {
      "cell_type": "markdown",
      "metadata": {
        "id": "PyLl2GlaYmdC"
      },
      "source": [
        "#Recap\n",
        "\n",
        "## We covered the following:\n",
        "\n",
        "*   How to set up the google drive account as a virtual drive.\n",
        "*   How to import data/files from our local drive to google drive.\n",
        "*   How to read files from google drive in colab.\n",
        "*   How to visualize data using pandas.\n",
        "*   How to download files from colab. \n",
        "*   How to do some elementary operations in python using numpy.\n",
        "*   How to plot a function in python. \n",
        "\n"
      ]
    },
    {
      "cell_type": "code",
      "metadata": {
        "id": "YHEjz-gS3eMK"
      },
      "source": [
        ""
      ],
      "execution_count": null,
      "outputs": []
    }
  ]
}